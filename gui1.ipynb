{
 "cells": [
  {
   "cell_type": "markdown",
   "metadata": {},
   "source": [
    "# GUI_of_ANPR"
   ]
  },
  {
   "cell_type": "code",
   "execution_count": null,
   "metadata": {},
   "outputs": [],
   "source": []
  },
  {
   "cell_type": "code",
   "execution_count": 3,
   "metadata": {},
   "outputs": [],
   "source": [
    "import tkinter as tk\n",
    "from tkinter import filedialog as fd\n",
    "\n",
    "window=tk.Tk()                \n",
    "#for setting geometry\n",
    "window.geometry(\"600x700\")    \n",
    "#for title\n",
    "window.title(\"ANPR\")\n",
    "#for buttons\n",
    "b1=tk.Button(window,text=\"Upload\",command=upload,height=2,width=10,fg=\"Black\",bg=\"Gray\").pack()\n",
    "b2=tk.Button(window,text=\"Search\",command=window.destroy,height=2,width=10,fg=\"Black\",bg=\"Gray\").pack()\n",
    "#insert frame\n",
    "f=tk.Frame(window, bg=\"White\")\n",
    "f.place(relx=0.3,rely=0.17,relwidth=0.80, relheight=0.60,anchor=\"n\")\n",
    "\n",
    "def upload():\n",
    "    name= fd.askopenfilename() \n",
    "    \n",
    "\n",
    "\n",
    "\n",
    "    \n",
    "    \n",
    "    \n",
    "    \n",
    "    \n",
    "    \n",
    "    \n",
    "    \n",
    "    \n",
    "window.mainloop()\n",
    "    \n"
   ]
  },
  {
   "cell_type": "code",
   "execution_count": null,
   "metadata": {},
   "outputs": [],
   "source": []
  },
  {
   "cell_type": "code",
   "execution_count": null,
   "metadata": {},
   "outputs": [],
   "source": []
  }
 ],
 "metadata": {
  "kernelspec": {
   "display_name": "Python 3",
   "language": "python",
   "name": "python3"
  },
  "language_info": {
   "codemirror_mode": {
    "name": "ipython",
    "version": 3
   },
   "file_extension": ".py",
   "mimetype": "text/x-python",
   "name": "python",
   "nbconvert_exporter": "python",
   "pygments_lexer": "ipython3",
   "version": "3.7.4"
  }
 },
 "nbformat": 4,
 "nbformat_minor": 2
}
